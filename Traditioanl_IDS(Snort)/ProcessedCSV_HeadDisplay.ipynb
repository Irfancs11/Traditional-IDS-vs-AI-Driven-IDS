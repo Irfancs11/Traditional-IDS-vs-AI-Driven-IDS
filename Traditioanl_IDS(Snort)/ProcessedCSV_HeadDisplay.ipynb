{
 "cells": [
  {
   "cell_type": "code",
   "execution_count": 5,
   "id": "957da33f-ab29-4b3c-92a1-39360b56ddf4",
   "metadata": {},
   "outputs": [
    {
     "name": "stdout",
     "output_type": "stream",
     "text": [
      "   07/05-17:12:56.892540   1  1200009  1.1  \\\n",
      "0  07/05-17:12:56.892540   1  1200008    1   \n",
      "1  07/05-17:13:15.574540   1  1200009    1   \n",
      "2  07/05-17:13:15.574540   1  1200008    1   \n",
      "3  07/05-17:13:15.604793   1  1200009    1   \n",
      "4  07/05-17:13:15.604793   1  1200008    1   \n",
      "\n",
      "  Security Misconfiguration - Missing Content-Security-Policy  TCP  \\\n",
      "0  Security Misconfiguration - Missing X-Content-...           TCP   \n",
      "1  Security Misconfiguration - Missing Content-Se...           TCP   \n",
      "2  Security Misconfiguration - Missing X-Content-...           TCP   \n",
      "3  Security Misconfiguration - Missing Content-Se...           TCP   \n",
      "4  Security Misconfiguration - Missing X-Content-...           TCP   \n",
      "\n",
      "   91.189.88.161  80  192.168.10.16  37380  ...   0xED  51  40  27706  1500  \\\n",
      "0  91.189.88.161  80  192.168.10.16  37380  ...   0xED  51  40  27706  1500   \n",
      "1   165.254.0.90  80  192.168.10.14  49467  ...  0x3B2  55   8  17937  1500   \n",
      "2   165.254.0.90  80  192.168.10.14  49467  ...  0x3B2  55   8  17937  1500   \n",
      "3   165.254.0.90  80  192.168.10.14  49467  ...  0x3D4  55   8  17943  1500   \n",
      "4   165.254.0.90  80  192.168.10.14  49467  ...  0x3D4  55   8  17943  1500   \n",
      "\n",
      "   225300  Unnamed: 23 Unnamed: 24  Unnamed: 25  Unnamed: 26  \n",
      "0  225300          NaN         NaN          NaN          NaN  \n",
      "1  225300          NaN         NaN          NaN          NaN  \n",
      "2  225300          NaN         NaN          NaN          NaN  \n",
      "3  225300          NaN         NaN          NaN          NaN  \n",
      "4  225300          NaN         NaN          NaN          NaN  \n",
      "\n",
      "[5 rows x 27 columns]\n"
     ]
    }
   ],
   "source": [
    "import pandas as pd\n",
    "file_path = r\"C:\\Users\\USER\\Desktop\\Capstone\\GeneratedLabelledFlows\\TrafficLabelling\\IMP\\SNORT\\alert.csv\"\n",
    "df = pd.read_csv(file_path)\n",
    "\n",
    "# Display the first 5 rows\n",
    "print(df.head())"
   ]
  },
  {
   "cell_type": "code",
   "execution_count": 1,
   "id": "164f36c9-ab45-41cb-bbfd-19b7380cf99d",
   "metadata": {},
   "outputs": [
    {
     "name": "stdout",
     "output_type": "stream",
     "text": [
      "    label\n",
      "0  BENIGN\n",
      "1  BENIGN\n",
      "2  BENIGN\n",
      "3  BENIGN\n",
      "4  BENIGN\n"
     ]
    }
   ],
   "source": [
    "import pandas as pd\n",
    "file_path = r\"C:\\Users\\USER\\Desktop\\Capstone\\GeneratedLabelledFlows\\TrafficLabelling\\IMP\\SNORT\\true_labels.csv\"\n",
    "df = pd.read_csv(file_path)\n",
    "\n",
    "# Display the first 5 rows\n",
    "print(df.head())"
   ]
  },
  {
   "cell_type": "code",
   "execution_count": 3,
   "id": "5730cc15-9dd1-46e7-bfcb-7a0164ccdae9",
   "metadata": {},
   "outputs": [
    {
     "name": "stdout",
     "output_type": "stream",
     "text": [
      "                                  Flow ID      Source IP  Source Port  \\\n",
      "0  192.168.10.14-209.48.71.168-49459-80-6  192.168.10.14        49459   \n",
      "1  192.168.10.3-192.168.10.17-389-49453-6  192.168.10.17        49453   \n",
      "2   192.168.10.3-192.168.10.17-88-46124-6  192.168.10.17        46124   \n",
      "3  192.168.10.3-192.168.10.17-389-49454-6  192.168.10.17        49454   \n",
      "4   192.168.10.3-192.168.10.17-88-46126-6  192.168.10.17        46126   \n",
      "\n",
      "  Destination IP  Destination Port  Protocol      Timestamp  Flow Duration  \\\n",
      "0  209.48.71.168                80         6  5/7/2017 8:42          38308   \n",
      "1   192.168.10.3               389         6  5/7/2017 8:42            479   \n",
      "2   192.168.10.3                88         6  5/7/2017 8:42           1095   \n",
      "3   192.168.10.3               389         6  5/7/2017 8:42          15206   \n",
      "4   192.168.10.3                88         6  5/7/2017 8:42           1092   \n",
      "\n",
      "   Total Fwd Packets  Total Backward Packets  ...  Active Mean  Active Std  \\\n",
      "0                  1                       1  ...          0.0         0.0   \n",
      "1                 11                       5  ...          0.0         0.0   \n",
      "2                 10                       6  ...          0.0         0.0   \n",
      "3                 17                      12  ...          0.0         0.0   \n",
      "4                  9                       6  ...          0.0         0.0   \n",
      "\n",
      "   Active Max  Active Min  Idle Mean  Idle Std  Idle Max  Idle Min   Label  \\\n",
      "0         0.0         0.0        0.0       0.0       0.0       0.0  BENIGN   \n",
      "1         0.0         0.0        0.0       0.0       0.0       0.0  BENIGN   \n",
      "2         0.0         0.0        0.0       0.0       0.0       0.0  BENIGN   \n",
      "3         0.0         0.0        0.0       0.0       0.0       0.0  BENIGN   \n",
      "4         0.0         0.0        0.0       0.0       0.0       0.0  BENIGN   \n",
      "\n",
      "   BinaryLabel  \n",
      "0       BENIGN  \n",
      "1       BENIGN  \n",
      "2       BENIGN  \n",
      "3       BENIGN  \n",
      "4       BENIGN  \n",
      "\n",
      "[5 rows x 86 columns]\n"
     ]
    }
   ],
   "source": [
    "import pandas as pd\n",
    "file_path = r\"C:\\Users\\USER\\Desktop\\Capstone\\GeneratedLabelledFlows\\TrafficLabelling\\IMP\\SNORT\\Wednesday-workingHours-preprocessed.csv\"\n",
    "df = pd.read_csv(file_path)\n",
    "\n",
    "# Display the first 5 rows\n",
    "print(df.head())"
   ]
  },
  {
   "cell_type": "code",
   "execution_count": null,
   "id": "8d713f53-eb19-4d46-b43b-20e26ee25fd2",
   "metadata": {},
   "outputs": [],
   "source": []
  }
 ],
 "metadata": {
  "kernelspec": {
   "display_name": "Python [conda env:base] *",
   "language": "python",
   "name": "conda-base-py"
  },
  "language_info": {
   "codemirror_mode": {
    "name": "ipython",
    "version": 3
   },
   "file_extension": ".py",
   "mimetype": "text/x-python",
   "name": "python",
   "nbconvert_exporter": "python",
   "pygments_lexer": "ipython3",
   "version": "3.11.7"
  }
 },
 "nbformat": 4,
 "nbformat_minor": 5
}
