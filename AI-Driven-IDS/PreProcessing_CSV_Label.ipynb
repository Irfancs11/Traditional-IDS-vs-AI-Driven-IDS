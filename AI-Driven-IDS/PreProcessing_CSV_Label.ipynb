{
 "cells": [
  {
   "cell_type": "markdown",
   "id": "023beaaa-f972-43fc-8617-04bba5c9c9e9",
   "metadata": {},
   "source": [
    "PreProcessing the CSV file"
   ]
  },
  {
   "cell_type": "code",
   "execution_count": 6,
   "id": "48d8c86a-1a3b-49fe-8cde-6b39570f7604",
   "metadata": {},
   "outputs": [
    {
     "name": "stdout",
     "output_type": "stream",
     "text": [
      "Original label distribution:\n",
      "Label\n",
      "BENIGN              440031\n",
      "DoS Hulk            231073\n",
      "DoS GoldenEye        10293\n",
      "DoS slowloris         5796\n",
      "DoS Slowhttptest      5499\n",
      "Heartbleed              11\n",
      "Name: count, dtype: int64\n",
      "\n",
      "New label distribution after merging:\n",
      "BinaryLabel\n",
      "BENIGN    440031\n",
      "ATTACK    252672\n",
      "Name: count, dtype: int64\n",
      "\n",
      "Preprocessed dataset saved to: C:\\Users\\USER\\Desktop\\Capstone\\GeneratedLabelledFlows\\TrafficLabelling\\Wednesday-workingHours-preprocessed.csv\n"
     ]
    }
   ],
   "source": [
    "import pandas as pd\n",
    "\n",
    "def preprocess_cicids_attacks(input_csv_path, output_csv_path):\n",
    "    # Load dataset\n",
    "    df = pd.read_csv(input_csv_path)\n",
    "    \n",
    "    # Strip leading/trailing spaces from column names\n",
    "    df.columns = df.columns.str.strip()\n",
    "    \n",
    "    # Display original label counts\n",
    "    if 'Label' not in df.columns:\n",
    "        raise ValueError(f\"'Label' column not found. Columns present: {df.columns.tolist()}\")\n",
    "    \n",
    "    print(\"Original label distribution:\")\n",
    "    print(df['Label'].value_counts())\n",
    "    \n",
    "    # Define attack labels to combine under ATTACK\n",
    "    attack_labels = [\n",
    "        'DoS GoldenEye',\n",
    "        'DoS Hulk',\n",
    "        'DoS Slowhttptest',\n",
    "        'DoS slowloris',\n",
    "        'Heartbleed'\n",
    "    ]\n",
    "    \n",
    "    # Create new column with BENIGN or ATTACK\n",
    "    df['BinaryLabel'] = df['Label'].apply(lambda x: 'ATTACK' if x in attack_labels else 'BENIGN')\n",
    "    \n",
    "    # Check new label counts\n",
    "    print(\"\\nNew label distribution after merging:\")\n",
    "    print(df['BinaryLabel'].value_counts())\n",
    "    \n",
    "    # Save to new CSV\n",
    "    df.to_csv(output_csv_path, index=False)\n",
    "    print(f\"\\nPreprocessed dataset saved to: {output_csv_path}\")\n",
    "\n",
    "# Example usage\n",
    "input_file = r\"C:\\Users\\USER\\Desktop\\Capstone\\GeneratedLabelledFlows\\TrafficLabelling\\Wednesday-workingHours-1.pcap_ISCX.csv\"\n",
    "output_file = r\"C:\\Users\\USER\\Desktop\\Capstone\\GeneratedLabelledFlows\\TrafficLabelling\\Wednesday-workingHours-preprocessed.csv\"\n",
    "\n",
    "preprocess_cicids_attacks(input_file, output_file)"
   ]
  },
  {
   "cell_type": "code",
   "execution_count": null,
   "id": "b59aa773-93c7-4ccd-91e6-976564d0849b",
   "metadata": {},
   "outputs": [],
   "source": []
  }
 ],
 "metadata": {
  "kernelspec": {
   "display_name": "Python [conda env:base] *",
   "language": "python",
   "name": "conda-base-py"
  },
  "language_info": {
   "codemirror_mode": {
    "name": "ipython",
    "version": 3
   },
   "file_extension": ".py",
   "mimetype": "text/x-python",
   "name": "python",
   "nbconvert_exporter": "python",
   "pygments_lexer": "ipython3",
   "version": "3.11.7"
  }
 },
 "nbformat": 4,
 "nbformat_minor": 5
}
